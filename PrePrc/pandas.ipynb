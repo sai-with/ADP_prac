{
 "cells": [
  {
   "cell_type": "markdown",
   "metadata": {},
   "source": [
    "* 컬럼명 변경\n",
    "* loc, iloc\n",
    "* groupby 파라미터 (as_index)\n",
    "* df 생성 시 입력값 형태 1. 리스트 2. 딕션너리\n",
    "    1. 리스트(행)들을 리스트에 담아 입력\n",
    "    2. "
   ]
  },
  {
   "cell_type": "code",
   "execution_count": null,
   "metadata": {},
   "outputs": [],
   "source": []
  }
 ],
 "metadata": {
  "language_info": {
   "name": "python"
  }
 },
 "nbformat": 4,
 "nbformat_minor": 2
}
