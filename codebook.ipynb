{
 "cells": [
  {
   "cell_type": "markdown",
   "metadata": {},
   "source": [
    "# 전처리"
   ]
  },
  {
   "cell_type": "markdown",
   "metadata": {},
   "source": [
    "# 수치 계산"
   ]
  },
  {
   "cell_type": "markdown",
   "metadata": {},
   "source": [
    "# 시각화"
   ]
  },
  {
   "cell_type": "code",
   "execution_count": 1,
   "metadata": {},
   "outputs": [],
   "source": [
    "import matplotlib.pyplot as plt"
   ]
  },
  {
   "cell_type": "markdown",
   "metadata": {},
   "source": [
    "## 전체 틀"
   ]
  },
  {
   "cell_type": "code",
   "execution_count": null,
   "metadata": {},
   "outputs": [],
   "source": [
    "# 그래프 사이즈\n",
    "plt.figure(figsize=(8,6))\n",
    "\n",
    "# 여러개\n",
    "plt.subplot(1,2,1)\n",
    "\n",
    "# 위에 겹치기\n",
    "plt.plot()\n",
    "\n",
    "# 전체 타이틀\n",
    "plt.suptitle('제목')\n",
    "\n",
    "# x, y label\n",
    "plt.xlabel('라벨')\n",
    "\n",
    "# 축 범위, 눈금 간격\n",
    "plt.xlim(1, 100)\n",
    "plt.xticks(1, 100, 10)"
   ]
  },
  {
   "cell_type": "markdown",
   "metadata": {},
   "source": [
    "# 통계 분석"
   ]
  },
  {
   "cell_type": "code",
   "execution_count": null,
   "metadata": {},
   "outputs": [],
   "source": [
    "import scipy.stats as stats"
   ]
  },
  {
   "cell_type": "markdown",
   "metadata": {},
   "source": [
    "### 정규성 검정"
   ]
  },
  {
   "cell_type": "code",
   "execution_count": null,
   "metadata": {},
   "outputs": [],
   "source": [
    "from scipy.stats import shapiro\n",
    "# print\n",
    "# statistic, p-value 반환"
   ]
  },
  {
   "cell_type": "markdown",
   "metadata": {},
   "source": [
    "### 등분산성 검정"
   ]
  },
  {
   "cell_type": "code",
   "execution_count": null,
   "metadata": {},
   "outputs": [],
   "source": [
    "stats.levene([1,2], [3,4])"
   ]
  },
  {
   "cell_type": "markdown",
   "metadata": {},
   "source": [
    "### T-검정"
   ]
  },
  {
   "cell_type": "markdown",
   "metadata": {},
   "source": [
    "* 단일 표본 T-검정 집단 : 기준값 (정규성)"
   ]
  },
  {
   "cell_type": "code",
   "execution_count": null,
   "metadata": {},
   "outputs": [],
   "source": [
    "평균 = 0\n",
    "# 정규성\n",
    "reg = stats.ttest_1samp([1,2,3], popmean=평균, alternative='양측 / 크다 / 작다') # popmean=기준값\n",
    "# 비정규성 (윌콕슨 부호 검정)\n",
    "irreg = stats.wilcoxon([1,2,3]-평균, alternative='양측 / 크다 / 작다')"
   ]
  },
  {
   "cell_type": "markdown",
   "metadata": {},
   "source": [
    "* 대응 표본 T-검정 전 집단 : 후 집단 (정규성)\n",
    "\n",
    "    같은 집단이기 때문에 등분산성 검정할 필요 없음"
   ]
  },
  {
   "cell_type": "code",
   "execution_count": null,
   "metadata": {},
   "outputs": [],
   "source": [
    "# 정규성\n",
    "reg = stats.ttest_rel('after', 'before', alternative='양측, 크다, 작다')\n",
    "# 비정규성\n",
    "irreg = stats.wilcoxon('after', 'before', alternative='')"
   ]
  },
  {
   "cell_type": "markdown",
   "metadata": {},
   "source": [
    "* 독립 표본 T-검정 집단1 : 집단2 (정규성, 등분산성)"
   ]
  },
  {
   "cell_type": "code",
   "execution_count": null,
   "metadata": {},
   "outputs": [],
   "source": [
    "# 정규성\n",
    "reg = stats.ttest_ind('g1', 'g2', alternative='')\n",
    "# Mann-whitney 검정(비정규성)"
   ]
  },
  {
   "cell_type": "markdown",
   "metadata": {},
   "source": [
    "# 머신러닝"
   ]
  },
  {
   "cell_type": "markdown",
   "metadata": {},
   "source": [
    "* x = data[['컬럼']]\n",
    "* y = data['컬럼']\n",
    "* model.intercept_ -> y절편\n",
    "* model.coef_ -> 회귀계수"
   ]
  },
  {
   "cell_type": "markdown",
   "metadata": {},
   "source": [
    "### 단순 선형 회귀"
   ]
  },
  {
   "cell_type": "markdown",
   "metadata": {},
   "source": []
  }
 ],
 "metadata": {
  "kernelspec": {
   "display_name": "section4_pj",
   "language": "python",
   "name": "python3"
  },
  "language_info": {
   "codemirror_mode": {
    "name": "ipython",
    "version": 3
   },
   "file_extension": ".py",
   "mimetype": "text/x-python",
   "name": "python",
   "nbconvert_exporter": "python",
   "pygments_lexer": "ipython3",
   "version": "3.8.16"
  }
 },
 "nbformat": 4,
 "nbformat_minor": 2
}
