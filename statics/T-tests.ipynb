{
 "cells": [
  {
   "cell_type": "markdown",
   "metadata": {},
   "source": [
    "# T-검정\n",
    "* 검정통게량이 귀무가설 하에 t-분포를 따르는 통계적 가설 검정 방법\n",
    "* 특정 집단의 평균값을 추정하거나 차이를 검정할 때 사용\n",
    "* 종속변수는 연속형, 독립변수는 범주형 변수여야함"
   ]
  },
  {
   "cell_type": "code",
   "execution_count": 1,
   "metadata": {},
   "outputs": [],
   "source": [
    "import scipy.stats as stats # 통계 라이브러리 로드\n",
    "# alternative = 'two-sided', 'less', 'greater'"
   ]
  },
  {
   "cell_type": "markdown",
   "metadata": {},
   "source": [
    "### 단일 표본 T-검정(One Sample t-test)\n",
    "* 단일모집단(전체 데이터에서)에서 관심이 있는 **연속형 변수**의 평균값을 특정 **기준값**과 비교\n",
    "\n",
    "    귀무가설: 평균값이 기준값과 같다\n",
    "\n",
    "    대립가설: 평균값이 기준값과 같지않다 / 크다 / 작다 \n",
    "\n",
    "    * 샤피로 검정 => 데이터의 정규성을 검정\n",
    "        \n",
    "    귀무가설: 데이터가 정규성을 따른다\n",
    "* 정규성을 따르는 경우\n",
    "\n",
    "    1 sample t-test 진행\n",
    "\n",
    "    ```stats.ttest_1samp(컬럼, popmean=평균값)```\n",
    "* 정규성을 따르지 않는 경우\n",
    "    * 윌코슨의 부호 순위 검정\n",
    "\n",
    "    일표본/대응표본 T검정에서 정규성 가정이 만족되지 않을 때 사용하는 **비모수 검정법**\n",
    "\n",
    "    일표본/대응표본 T검정과는 달리 중앙값에 관한 결과를 얻을 수 있음.\n",
    "    wilcoxon test로 t-test 진행  \n",
    "    \n",
    "    ```stats.wilcoxon(컬럼-평균, alternative='양측 / 단측')```"
   ]
  },
  {
   "cell_type": "code",
   "execution_count": 2,
   "metadata": {},
   "outputs": [
    {
     "data": {
      "text/html": [
       "<div>\n",
       "<style scoped>\n",
       "    .dataframe tbody tr th:only-of-type {\n",
       "        vertical-align: middle;\n",
       "    }\n",
       "\n",
       "    .dataframe tbody tr th {\n",
       "        vertical-align: top;\n",
       "    }\n",
       "\n",
       "    .dataframe thead th {\n",
       "        text-align: right;\n",
       "    }\n",
       "</style>\n",
       "<table border=\"1\" class=\"dataframe\">\n",
       "  <thead>\n",
       "    <tr style=\"text-align: right;\">\n",
       "      <th></th>\n",
       "      <th>Sex</th>\n",
       "      <th>Bwt</th>\n",
       "      <th>Hwt</th>\n",
       "    </tr>\n",
       "  </thead>\n",
       "  <tbody>\n",
       "    <tr>\n",
       "      <th>0</th>\n",
       "      <td>F</td>\n",
       "      <td>2.0</td>\n",
       "      <td>7.0</td>\n",
       "    </tr>\n",
       "    <tr>\n",
       "      <th>1</th>\n",
       "      <td>F</td>\n",
       "      <td>2.0</td>\n",
       "      <td>7.4</td>\n",
       "    </tr>\n",
       "    <tr>\n",
       "      <th>2</th>\n",
       "      <td>F</td>\n",
       "      <td>2.0</td>\n",
       "      <td>9.5</td>\n",
       "    </tr>\n",
       "    <tr>\n",
       "      <th>3</th>\n",
       "      <td>F</td>\n",
       "      <td>2.1</td>\n",
       "      <td>7.2</td>\n",
       "    </tr>\n",
       "    <tr>\n",
       "      <th>4</th>\n",
       "      <td>F</td>\n",
       "      <td>2.1</td>\n",
       "      <td>7.3</td>\n",
       "    </tr>\n",
       "  </tbody>\n",
       "</table>\n",
       "</div>"
      ],
      "text/plain": [
       "  Sex  Bwt  Hwt\n",
       "0   F  2.0  7.0\n",
       "1   F  2.0  7.4\n",
       "2   F  2.0  9.5\n",
       "3   F  2.1  7.2\n",
       "4   F  2.1  7.3"
      ]
     },
     "execution_count": 2,
     "metadata": {},
     "output_type": "execute_result"
    }
   ],
   "source": [
    "import pandas as pd\n",
    "cats = pd.read_csv(\"https://raw.githubusercontent.com/ADPclass/ADP_book_ver01/main/data/cats.csv\")\n",
    "cats.head()"
   ]
  },
  {
   "cell_type": "code",
   "execution_count": 3,
   "metadata": {},
   "outputs": [
    {
     "name": "stdout",
     "output_type": "stream",
     "text": [
      "<class 'pandas.core.frame.DataFrame'>\n",
      "RangeIndex: 144 entries, 0 to 143\n",
      "Data columns (total 3 columns):\n",
      " #   Column  Non-Null Count  Dtype  \n",
      "---  ------  --------------  -----  \n",
      " 0   Sex     144 non-null    object \n",
      " 1   Bwt     144 non-null    float64\n",
      " 2   Hwt     144 non-null    float64\n",
      "dtypes: float64(2), object(1)\n",
      "memory usage: 3.5+ KB\n"
     ]
    }
   ],
   "source": [
    "# 성별, 몸무게, 길이\n",
    "cats.info()"
   ]
  },
  {
   "cell_type": "code",
   "execution_count": 4,
   "metadata": {},
   "outputs": [
    {
     "data": {
      "text/plain": [
       "ShapiroResult(statistic=0.9518786668777466, pvalue=6.730248423991725e-05)"
      ]
     },
     "execution_count": 4,
     "metadata": {},
     "output_type": "execute_result"
    }
   ],
   "source": [
    "import scipy.stats as stats\n",
    "from scipy.stats import shapiro\n",
    "\n",
    "mean = 2.6 # 평균 몸무게\n",
    "shapiro(cats['Bwt']) # 몸무게 데이터의 정규성 검정\n",
    "# statistic: 검정통게량 p-value: 유의수준"
   ]
  },
  {
   "cell_type": "markdown",
   "metadata": {},
   "source": [
    "* 귀무가설: 고양이의 평균 몸무게는 2.6kg이다\n",
    "* 대립가설: 고양이의 평균 몸무게는 2.6kg이 아니다\n",
    "\n",
    "    p-value가 유의수준보다 작으면 대립가설 채택/귀무가설 기각"
   ]
  },
  {
   "cell_type": "code",
   "execution_count": 5,
   "metadata": {},
   "outputs": [
    {
     "data": {
      "text/plain": [
       "WilcoxonResult(statistic=3573.0, pvalue=0.02524520294814093)"
      ]
     },
     "execution_count": 5,
     "metadata": {},
     "output_type": "execute_result"
    }
   ],
   "source": [
    "stats.wilcoxon(cats['Bwt']-mean, alternative='two-sided') # 양측 검정(더 작거나, 더 크다 / 같지 않다)"
   ]
  },
  {
   "cell_type": "markdown",
   "metadata": {},
   "source": [
    "**고양이의 평균 몸무게는 2.6kg이 아니다**"
   ]
  },
  {
   "cell_type": "code",
   "execution_count": 6,
   "metadata": {},
   "outputs": [
    {
     "data": {
      "text/plain": [
       "Text(0, 0.5, 'counts')"
      ]
     },
     "execution_count": 6,
     "metadata": {},
     "output_type": "execute_result"
    },
    {
     "data": {
      "image/png": "[encoded data removed]",
      "text/plain": [
       "<Figure size 640x480 with 1 Axes>"
      ]
     },
     "metadata": {},
     "output_type": "display_data"
    }
   ],
   "source": [
    "## 몸무게 시각화\n",
    "import matplotlib.pyplot as plt\n",
    "plot = cats.Bwt.value_counts() # 해당 몸무게 별 고양이 마리 수\n",
    "plt.bar(plot.index, plot.values, width=0.3)\n",
    "plt.title('weight')\n",
    "plt.ylabel('counts')"
   ]
  },
  {
   "cell_type": "markdown",
   "metadata": {},
   "source": [
    "### 대응표본 T-검정(Paired Sample t-test)\n",
    "* 단일모집단에 대해 어떤 처리를 가했을 때 처리 전후에 따른 평균의 차이를 비교할 때 사용한다\n",
    "* 같은 집단을 두 번 측정하므로 등분산성 만족\n",
    "* 정규성 검정 필요\n",
    "\n",
    "    ```stats.ttest_rel(전집단, 후집단, 검정방식(alternative))```\n",
    "\n",
    "    귀무가설: 두 모집단의 평균값에 차이가 없다\n",
    "\n",
    "    대립가설: 두 모집단의 평균값에 차이가 있다"
   ]
  },
  {
   "cell_type": "code",
   "execution_count": 7,
   "metadata": {},
   "outputs": [],
   "source": [
    "# 예제: 수면제 복용 전후의 수면시간\n",
    "import pandas as pd\n",
    "data = {'before':[7,3,4,5,2,1,6,6,5,4],\n",
    "        'after':[8,4,5,6,2,3,6,8,6,5]}\n",
    "data = pd.DataFrame(data)"
   ]
  },
  {
   "cell_type": "code",
   "execution_count": 8,
   "metadata": {},
   "outputs": [
    {
     "data": {
      "text/plain": [
       "ShapiroResult(statistic=0.9456835985183716, pvalue=0.6177982091903687)"
      ]
     },
     "execution_count": 8,
     "metadata": {},
     "output_type": "execute_result"
    }
   ],
   "source": [
    "# 전후집단 정규성 검정 = OO\n",
    "shapiro(data['after'])"
   ]
  },
  {
   "cell_type": "code",
   "execution_count": 9,
   "metadata": {},
   "outputs": [
    {
     "data": {
      "text/plain": [
       "TtestResult(statistic=4.743416490252569, pvalue=0.0005269356285082764, df=9)"
      ]
     },
     "execution_count": 9,
     "metadata": {},
     "output_type": "execute_result"
    }
   ],
   "source": [
    "stats.ttest_rel(data['after'], data['before'], alternative='greater')"
   ]
  },
  {
   "cell_type": "markdown",
   "metadata": {},
   "source": [
    "* 수면제는 수면시간에 양의 영향을 끼친다고 볼 수 있음"
   ]
  },
  {
   "cell_type": "markdown",
   "metadata": {},
   "source": [
    "### 독립표본 T-검정(Independent Sample t-test)\n",
    "* 두 개의 독립된 모집단의 평균을 비교할 때 사용\n",
    "* 모집단, 모수, 표본이 모두 두 개씩 존재 (정규성, 등분산성 가정 필요)\n",
    "\n",
    "    ```stats.ttest_ind(집단1, 집단2 equal_var=등분산성 만족 여부(T/F)```\n",
    "\n",
    "    귀무가설: 두 모평균 사이의 차이가 없다\n",
    "    \n",
    "    대립가설: 두 모평균 사이의 차이가 있다"
   ]
  },
  {
   "cell_type": "code",
   "execution_count": 3,
   "metadata": {},
   "outputs": [
    {
     "data": {
      "text/plain": [
       "LeveneResult(statistic=19.43101190877999, pvalue=2.0435285255189404e-05)"
      ]
     },
     "execution_count": 3,
     "metadata": {},
     "output_type": "execute_result"
    }
   ],
   "source": [
    "# 두집단으로 나누기(by 성별)\n",
    "f = cats.loc[cats['Sex'] == 'F', 'Bwt'] # 성별이 여자인 고양이의 몸무게\n",
    "m = cats.loc[cats['Sex'] == 'M', 'Bwt']\n",
    "stats.levene(f,m)\n",
    "# 검정 통계량, p-value"
   ]
  },
  {
   "cell_type": "markdown",
   "metadata": {},
   "source": [
    "* 두 데이터가 등분산성을 만족한다는 귀무가설 기각"
   ]
  },
  {
   "cell_type": "code",
   "execution_count": 4,
   "metadata": {},
   "outputs": [
    {
     "data": {
      "text/plain": [
       "Ttest_indResult(statistic=-8.70948849909559, pvalue=8.831034455859356e-15)"
      ]
     },
     "execution_count": 4,
     "metadata": {},
     "output_type": "execute_result"
    }
   ],
   "source": [
    "# ttest_ind함수의 equal_var 파라미터를 False로 설정하여 검정 시행\n",
    "stats.ttest_ind(f, m, equal_var=False)"
   ]
  },
  {
   "cell_type": "code",
   "execution_count": 22,
   "metadata": {},
   "outputs": [
    {
     "data": {
      "text/plain": [
       "-8.70948849909559"
      ]
     },
     "execution_count": 22,
     "metadata": {},
     "output_type": "execute_result"
    }
   ],
   "source": [
    "result = stats.ttest_ind(f, m, equal_var=False)\n",
    "result.statistic"
   ]
  },
  {
   "cell_type": "markdown",
   "metadata": {},
   "source": [
    "* 두 집단의 몸무게가 같다는 귀무가설 기각"
   ]
  },
  {
   "cell_type": "code",
   "execution_count": 21,
   "metadata": {},
   "outputs": [
    {
     "data": {
      "image/png": "[encoded data removed]",
      "text/plain": [
       "<Figure size 800x400 with 2 Axes>"
      ]
     },
     "metadata": {},
     "output_type": "display_data"
    }
   ],
   "source": [
    "# 시각화\n",
    "import matplotlib.pyplot as plt\n",
    "\n",
    "ff = f.value_counts(sort=False)\n",
    "mm = m.value_counts(sort=False)\n",
    "\n",
    "plt.figure(figsize=(8, 4)) # 전체 그래프 사이즈\n",
    "plt.suptitle('cat weight') # 전체 제목\n",
    "plt.subplot(1,2,1) # (가로, 세로, 몇번째 그래프)\n",
    "plt.bar(ff.index, ff.values) #(x, y)\n",
    "plt.title('Female')# 그래프 제목\n",
    "plt.subplot(1,2,2)\n",
    "plt.bar(mm.index, mm.values)\n",
    "plt.title('Male')\n",
    "plt.show();"
   ]
  }
 ],
 "metadata": {
  "kernelspec": {
   "display_name": "Python 3",
   "language": "python",
   "name": "python3"
  },
  "language_info": {
   "codemirror_mode": {
    "name": "ipython",
    "version": 3
   },
   "file_extension": ".py",
   "mimetype": "text/x-python",
   "name": "python",
   "nbconvert_exporter": "python",
   "pygments_lexer": "ipython3",
   "version": "3.8.16"
  }
 },
 "nbformat": 4,
 "nbformat_minor": 2
}
