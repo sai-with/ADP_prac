{
 "cells": [
  {
   "cell_type": "markdown",
   "metadata": {},
   "source": [
    "# 교차분석(카이제곱 검정)\n",
    "| 설명변수, 반응변수가 범주형 변수인 경우에 사용하는 통계 기법\n",
    "\n",
    "```scipy.stats.chisquare(관찰 빈도(value_counts), 기대빈도, 자유도 조정, 축)```\n",
    "* 데이터에서 각 범주에 따른 **결과변수의 분포**를 설명하거나,\n",
    "    \n",
    "    범주형 변수가 두 개 이상인 경우 **두 변수가 상관이 있는지**를 검정하는 것이 목적\n",
    "* 교차표를 통해 각 셀의 관찰빈도와 기대빈도 간의 차이를 검정하는 기법이다.\n",
    "    * 관찰빈도: 자료로부터 얻은 빈도분포\n",
    "    * 기대빈도: 두 변수가 독립일 때 이론적으로 기대할 수 있는 빈도 분포\n",
    "    \n",
    "<img src='./imgs/crosstable.jpeg' width='440px' height='120px'></img>\n",
    "\n",
    "* 목적에 따라 적합성, 독립성, 동질성 검정으로 나뉨\n",
    "    1. 적합성 검정: 각 범주에 따른 데이터의 빈도분포가 **이론적으로 기대하는 분포를 따르는가?**\n",
    "    \n",
    "        (주사위값의 각 확률이 1/6이 맞는가?)\n",
    "    2. 독립성 검정: 모집단이 두 개의 변수 A, B에 의해 범주화되었을 때, **두 변수들의 관계가 독립인가?**\n",
    "    \n",
    "        (비만 유무와 질환 유무가 주어졌을 때, 비만에 따른 질환 비율의 차이가 존재하는가?)\n",
    "    3. 동질성 검정: 모집단이 임의의 변수에따라 R개의 속성으로 범주화되었을 때, R개의 부분 모집단에서 추출한 표본이 C개의 범주화된 집단의 분포와 동일한가?"
   ]
  },
  {
   "cell_type": "code",
   "execution_count": 1,
   "metadata": {},
   "outputs": [],
   "source": [
    "import scipy.stats as stats\n",
    "from scipy.stats import chisquare, chi2_contingency # 적합성, 독립성 검정\n",
    "\n",
    "import pandas as pd"
   ]
  },
  {
   "cell_type": "markdown",
   "metadata": {},
   "source": [
    "### 카이제곱 적합성 검정 예제 (성별-독립, 생존여부-종속)\n",
    "* 타이타닉 생존 데이터\n",
    "\n",
    "    귀무가설: 타이타닉호 생존자 중 남녀 비율이 반반이다.\n",
    "\n",
    "    대립가설: 타이타닉호 생존자 중 남녀 비율은 반반이 아니다."
   ]
  },
  {
   "cell_type": "code",
   "execution_count": 2,
   "metadata": {},
   "outputs": [
    {
     "name": "stdout",
     "output_type": "stream",
     "text": [
      "<class 'pandas.core.frame.DataFrame'>\n",
      "RangeIndex: 891 entries, 0 to 890\n",
      "Data columns (total 11 columns):\n",
      " #   Column       Non-Null Count  Dtype  \n",
      "---  ------       --------------  -----  \n",
      " 0   survived     891 non-null    int64  \n",
      " 1   pclass       891 non-null    int64  \n",
      " 2   sex          891 non-null    object \n",
      " 3   age          714 non-null    float64\n",
      " 4   sibsp        891 non-null    int64  \n",
      " 5   parch        891 non-null    int64  \n",
      " 6   fare         891 non-null    float64\n",
      " 7   embarked     889 non-null    object \n",
      " 8   class        891 non-null    object \n",
      " 9   adult_male   891 non-null    bool   \n",
      " 10  embark_town  889 non-null    object \n",
      "dtypes: bool(1), float64(2), int64(4), object(4)\n",
      "memory usage: 70.6+ KB\n"
     ]
    },
    {
     "data": {
      "text/plain": [
       "(None,\n",
       "    survived  pclass     sex   age  sibsp  parch     fare embarked  class  \\\n",
       " 0         0       3    male  22.0      1      0   7.2500        S  Third   \n",
       " 1         1       1  female  38.0      1      0  71.2833        C  First   \n",
       " 2         1       3  female  26.0      0      0   7.9250        S  Third   \n",
       " 3         1       1  female  35.0      1      0  53.1000        S  First   \n",
       " 4         0       3    male  35.0      0      0   8.0500        S  Third   \n",
       " \n",
       "    adult_male  embark_town  \n",
       " 0        True  Southampton  \n",
       " 1       False    Cherbourg  \n",
       " 2       False  Southampton  \n",
       " 3       False  Southampton  \n",
       " 4        True  Southampton  )"
      ]
     },
     "execution_count": 2,
     "metadata": {},
     "output_type": "execute_result"
    }
   ],
   "source": [
    "# 카이제곱 적합성 검정 예제\n",
    "data = pd.read_csv(\"https://raw.githubusercontent.com/ADPclass/ADP_book_ver01/main/data/titanic.csv\")\n",
    "data.info(), data.head()"
   ]
  },
  {
   "cell_type": "code",
   "execution_count": 3,
   "metadata": {},
   "outputs": [
    {
     "name": "stdout",
     "output_type": "stream",
     "text": [
      "적합도 검정\n",
      " Power_divergenceResult(statistic=44.95906432748538, pvalue=2.0119672574477235e-11)\n"
     ]
    }
   ],
   "source": [
    "# 생존자 데이터만 분류\n",
    "sur = data.loc[data['survived'] == 1]\n",
    "table = sur['sex'].value_counts()\n",
    "table\n",
    "# 유의수준 0.05로 적합도 검정 수행\n",
    "chi = chisquare(table, f_exp=[171, 171]) ## 관찰빈도, 기대빈도(50:50) 입력\n",
    "print('적합도 검정\\n', chi)"
   ]
  },
  {
   "cell_type": "markdown",
   "metadata": {},
   "source": [
    "* p-value < 0.05이므로 귀무가설이 기각\n",
    "\n",
    "    **생존자 중 남녀 비율은 50:50이라고 할 수 없다**"
   ]
  },
  {
   "cell_type": "markdown",
   "metadata": {},
   "source": [
    "### 카이제곱 독립성 검정 예제\n",
    "```stats.chi2_contingency(관찰빈도)```\n",
    "\n",
    "* 관찰빈도는 ```pd.crosstab()``` 결과값을 입력한다\n",
    "* 4개의 결과값이 Return\n",
    "    1. chi2: 검정통계량\n",
    "    2. p: p-value\n",
    "    3. dof: 자유도\n",
    "    4. expected: 기대빈도\n",
    "\n",
    "* 예제) 좌석등급과 생존여부가 서로 독립인가?\n",
    "    \n",
    "    귀무가설: 두 변수는 독립이다\n",
    "\n",
    "    대립가설: 두 변수는 독립이 아니다"
   ]
  },
  {
   "cell_type": "code",
   "execution_count": 6,
   "metadata": {},
   "outputs": [
    {
     "name": "stdout",
     "output_type": "stream",
     "text": [
      "교차표\n",
      " survived    0    1\n",
      "class             \n",
      "First      80  136\n",
      "Second     97   87\n",
      "Third     372  119\n",
      "\n",
      "      Statictic: 102.88898875696056\n",
      "      p-value: 4.549251711298793e-23\n",
      "      df: 2\n",
      "      expect:\n",
      "[[133.09090909  82.90909091]\n",
      " [113.37373737  70.62626263]\n",
      " [302.53535354 188.46464646]]\n"
     ]
    }
   ],
   "source": [
    "# 교차표 만들기(관찰빈도)\n",
    "table = pd.crosstab(data['class'], data['survived']) # pd.crosstab(Series, Series) 교차표생성\n",
    "print('교차표\\n', table)\n",
    "\n",
    "# 독립성 검정\n",
    "chi, p, dof, exp = chi2_contingency(table)\n",
    "print(f'''\n",
    "      Statictic: {chi}\n",
    "      p-value: {p}\n",
    "      df: {dof}\n",
    "      expect:\\n{exp}''')"
   ]
  },
  {
   "cell_type": "markdown",
   "metadata": {},
   "source": [
    "* p-value < 0.05이므로 귀무가설 기각\n",
    "\n",
    "    **좌석등급과 생존여부는 독립이 아니다**"
   ]
  }
 ],
 "metadata": {
  "kernelspec": {
   "display_name": "section4_pj",
   "language": "python",
   "name": "python3"
  },
  "language_info": {
   "codemirror_mode": {
    "name": "ipython",
    "version": 3
   },
   "file_extension": ".py",
   "mimetype": "text/x-python",
   "name": "python",
   "nbconvert_exporter": "python",
   "pygments_lexer": "ipython3",
   "version": "3.8.16"
  }
 },
 "nbformat": 4,
 "nbformat_minor": 2
}
