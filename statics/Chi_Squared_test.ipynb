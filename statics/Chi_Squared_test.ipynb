{
 "cells": [
  {
   "cell_type": "markdown",
   "metadata": {},
   "source": [
    "# 교차분석(카이제곱 검정)\n",
    "| 설명변수, 반응변수가 범주형 변수인 경우에 사용하는 통계 기법\n",
    "\n",
    "```scipy.stats.chisquare(관찰 빈도(value_counts), 기대빈도, 자유도 조정, 축)```\n",
    "* 데이터에서 각 범주에 따른 **결과변수의 분포**를 설명하거나, 범주형 변수가 두 개 이상인 경우 **두 변수가 상관이 있는지**를 검정하는 것이 목적\n",
    "* 교차표를 통해 각 셀의 관찰빈도와 기대빈도 간의 차이를 검정하는 기법이다.\n",
    "    * 관찰빈도: 자료로부터 얻은 빈도분포\n",
    "    * 기대빈도: 두 변수가 독립일 때 이론적으로 기대할 수 있는 빈도 분포\n",
    "    \n",
    "<img src='./imgs/crosstable.jpeg' width='440px' height='120px'></img>\n",
    "\n",
    "* 목적에 따라 적합성, 독립성, 동질성 검정으로 나뉨"
   ]
  },
  {
   "cell_type": "code",
   "execution_count": 2,
   "metadata": {},
   "outputs": [],
   "source": [
    "import scipy.stats as stats\n",
    "from scipy.stats import chisquare, chi2_contingency # 적합성, 독립성 검정\n",
    "\n",
    "import pandas as pd"
   ]
  },
  {
   "cell_type": "markdown",
   "metadata": {},
   "source": [
    "### 카이제곱 적합성 검정 예제 (성별-독립, 생존여부-종속?)\n",
    "* 타이타닉 생존 데이터\n",
    "\n",
    "    귀무가설: 타이타닉호 생존자 중 남녀 비율이 반반이다.\n",
    "\n",
    "    대립가설: 타이타닉호 생존자 중 남녀 비율은 반반이 아니다."
   ]
  },
  {
   "cell_type": "code",
   "execution_count": 3,
   "metadata": {},
   "outputs": [
    {
     "name": "stdout",
     "output_type": "stream",
     "text": [
      "<class 'pandas.core.frame.DataFrame'>\n",
      "RangeIndex: 891 entries, 0 to 890\n",
      "Data columns (total 11 columns):\n",
      " #   Column       Non-Null Count  Dtype  \n",
      "---  ------       --------------  -----  \n",
      " 0   survived     891 non-null    int64  \n",
      " 1   pclass       891 non-null    int64  \n",
      " 2   sex          891 non-null    object \n",
      " 3   age          714 non-null    float64\n",
      " 4   sibsp        891 non-null    int64  \n",
      " 5   parch        891 non-null    int64  \n",
      " 6   fare         891 non-null    float64\n",
      " 7   embarked     889 non-null    object \n",
      " 8   class        891 non-null    object \n",
      " 9   adult_male   891 non-null    bool   \n",
      " 10  embark_town  889 non-null    object \n",
      "dtypes: bool(1), float64(2), int64(4), object(4)\n",
      "memory usage: 70.6+ KB\n"
     ]
    },
    {
     "data": {
      "text/plain": [
       "(None,\n",
       "    survived  pclass     sex   age  sibsp  parch     fare embarked  class  \\\n",
       " 0         0       3    male  22.0      1      0   7.2500        S  Third   \n",
       " 1         1       1  female  38.0      1      0  71.2833        C  First   \n",
       " 2         1       3  female  26.0      0      0   7.9250        S  Third   \n",
       " 3         1       1  female  35.0      1      0  53.1000        S  First   \n",
       " 4         0       3    male  35.0      0      0   8.0500        S  Third   \n",
       " \n",
       "    adult_male  embark_town  \n",
       " 0        True  Southampton  \n",
       " 1       False    Cherbourg  \n",
       " 2       False  Southampton  \n",
       " 3       False  Southampton  \n",
       " 4        True  Southampton  )"
      ]
     },
     "execution_count": 3,
     "metadata": {},
     "output_type": "execute_result"
    }
   ],
   "source": [
    "# 카이제곱 적합성 검정 예제\n",
    "data = pd.read_csv(\"https://raw.githubusercontent.com/ADPclass/ADP_book_ver01/main/data/titanic.csv\")\n",
    "data.info(), data.head()"
   ]
  },
  {
   "cell_type": "code",
   "execution_count": 6,
   "metadata": {},
   "outputs": [
    {
     "name": "stdout",
     "output_type": "stream",
     "text": [
      "적합도 검정\n",
      " Power_divergenceResult(statistic=44.95906432748538, pvalue=2.0119672574477235e-11)\n"
     ]
    }
   ],
   "source": [
    "# 생존자 데이터만 분류\n",
    "sur = data.loc[data['survived'] == 1]\n",
    "table = sur['sex'].value_counts()\n",
    "table\n",
    "# 유의수준 0.05로 적합도 검정 수행\n",
    "chi = chisquare(table, f_exp=[171, 171]) ## 관찰빈도, 기대빈도(50:50) 입력\n",
    "print('적합도 검정\\n', chi)"
   ]
  },
  {
   "cell_type": "code",
   "execution_count": null,
   "metadata": {},
   "outputs": [],
   "source": []
  }
 ],
 "metadata": {
  "kernelspec": {
   "display_name": "section4_pj",
   "language": "python",
   "name": "python3"
  },
  "language_info": {
   "codemirror_mode": {
    "name": "ipython",
    "version": 3
   },
   "file_extension": ".py",
   "mimetype": "text/x-python",
   "name": "python",
   "nbconvert_exporter": "python",
   "pygments_lexer": "ipython3",
   "version": "3.8.16"
  }
 },
 "nbformat": 4,
 "nbformat_minor": 2
}
