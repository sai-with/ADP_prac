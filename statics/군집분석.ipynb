{
 "cells": [
  {
   "cell_type": "markdown",
   "metadata": {},
   "source": [
    "# 군집분석\n",
    "| 각 개체의 유사성을 측정하여 유사성이 높은 대상집단을 분류하는 통계적 기법 | 종속 변수가 필요하지 않기 때문에 비지도학습으로 분류\n",
    "\n",
    "\n",
    "💡군집분석: 객체 간의 상이성을 규명하고 **군집의 특징을 파악**하는 것이 목적\n",
    "\n",
    "💡요인분석: 데이터의 유사한 변수를 묶어 다중공선서을 줄이는 것이 목적"
   ]
  },
  {
   "cell_type": "markdown",
   "metadata": {},
   "source": [
    "## 계층적 군집분석\n",
    "| n개의 군집으로 시작해 점차 군집의 개수를 **줄여나가는** 방법\n",
    "\n",
    "* 거리 계산법\n",
    "\n",
    "    1. 최단 연결법: 가장 가까운 데이터를 묶어서 군집을 형성\n",
    "    2. 최장 연결법: 집단 간 데이터의 최장거리를 거리로 계산\n",
    "    3. 평균 연결법: 모든 데이터의 거리의 평균을 거리로 계산\n",
    "    4. 중심 연결법: 군집의 중심값 간 거리를 계산\n",
    "    5. 와드 연결법: 군집 내 편차들의 제곱합을 계산\n",
    "\n",
    "<img src='./imgs/계층군집_연결법.png' width=600px height=230></img>"
   ]
  },
  {
   "cell_type": "markdown",
   "metadata": {},
   "source": [
    "* Python에서는\n",
    "\n",
    "    ```from scipy.cluster.hierarchy```의 ```linkage``` 함수를 사용하여 군집을 할당하고\n",
    "\n",
    "    ```dendrogram``` 함수로 이를 시각화하고 군집의 개수를 설정한다."
   ]
  },
  {
   "cell_type": "markdown",
   "metadata": {},
   "source": [
    "```linkage(y, method='single', metric='euclidian)```\n",
    "\n",
    "* y(ndarray)\n",
    "* method: 거리연결법\n",
    "    \n",
    "    single(최단), complete(최장), average(평균), centroid(중심), ward(와드)\n",
    "* metric: 거리계산법\n",
    "\n",
    "    euclidean(유클리디안), seuclidean(표준화), mahalanobis(마할라노비스), chebyshev(체비셰프)\n",
    "    \n",
    "    cityblock(맨해튼), canberra(캔버라), minkowski(민코우스키), jaccard(자카드), cosine(코사인 유사도)"
   ]
  },
  {
   "cell_type": "markdown",
   "metadata": {},
   "source": [
    "❗️거리계산법 설명 추가하기❗️"
   ]
  },
  {
   "cell_type": "markdown",
   "metadata": {},
   "source": [
    "### 계층적 군집분석 실습 - USArrests 데이터\n",
    "    \n",
    "* Murder: 살인 체포\n",
    "* Assault: 폭행\n",
    "* UrbanPop: 인구 비율\n",
    "* Rape: 강간\n",
    "\n",
    "    100,000명당 "
   ]
  },
  {
   "cell_type": "code",
   "execution_count": 1,
   "metadata": {},
   "outputs": [],
   "source": [
    "import pandas as pd \n",
    "import numpy as np\n",
    "from scipy.cluster.hierarchy import linkage, dendrogram # 군집 할당, 시각화\n",
    "import matplotlib.pyplot as plt"
   ]
  },
  {
   "cell_type": "code",
   "execution_count": 2,
   "metadata": {},
   "outputs": [
    {
     "data": {
      "text/html": [
       "<div>\n",
       "<style scoped>\n",
       "    .dataframe tbody tr th:only-of-type {\n",
       "        vertical-align: middle;\n",
       "    }\n",
       "\n",
       "    .dataframe tbody tr th {\n",
       "        vertical-align: top;\n",
       "    }\n",
       "\n",
       "    .dataframe thead th {\n",
       "        text-align: right;\n",
       "    }\n",
       "</style>\n",
       "<table border=\"1\" class=\"dataframe\">\n",
       "  <thead>\n",
       "    <tr style=\"text-align: right;\">\n",
       "      <th></th>\n",
       "      <th>State</th>\n",
       "      <th>Murder</th>\n",
       "      <th>Assault</th>\n",
       "      <th>UrbanPop</th>\n",
       "      <th>Rape</th>\n",
       "    </tr>\n",
       "  </thead>\n",
       "  <tbody>\n",
       "    <tr>\n",
       "      <th>0</th>\n",
       "      <td>Alabama</td>\n",
       "      <td>13.2</td>\n",
       "      <td>236</td>\n",
       "      <td>58</td>\n",
       "      <td>21.2</td>\n",
       "    </tr>\n",
       "    <tr>\n",
       "      <th>1</th>\n",
       "      <td>Alaska</td>\n",
       "      <td>10.0</td>\n",
       "      <td>263</td>\n",
       "      <td>48</td>\n",
       "      <td>44.5</td>\n",
       "    </tr>\n",
       "    <tr>\n",
       "      <th>2</th>\n",
       "      <td>Arizona</td>\n",
       "      <td>8.1</td>\n",
       "      <td>294</td>\n",
       "      <td>80</td>\n",
       "      <td>31.0</td>\n",
       "    </tr>\n",
       "    <tr>\n",
       "      <th>3</th>\n",
       "      <td>Arkansas</td>\n",
       "      <td>8.8</td>\n",
       "      <td>190</td>\n",
       "      <td>50</td>\n",
       "      <td>19.5</td>\n",
       "    </tr>\n",
       "    <tr>\n",
       "      <th>4</th>\n",
       "      <td>California</td>\n",
       "      <td>9.0</td>\n",
       "      <td>276</td>\n",
       "      <td>91</td>\n",
       "      <td>40.6</td>\n",
       "    </tr>\n",
       "  </tbody>\n",
       "</table>\n",
       "</div>"
      ],
      "text/plain": [
       "        State  Murder  Assault  UrbanPop  Rape\n",
       "0     Alabama    13.2      236        58  21.2\n",
       "1      Alaska    10.0      263        48  44.5\n",
       "2     Arizona     8.1      294        80  31.0\n",
       "3    Arkansas     8.8      190        50  19.5\n",
       "4  California     9.0      276        91  40.6"
      ]
     },
     "execution_count": 2,
     "metadata": {},
     "output_type": "execute_result"
    }
   ],
   "source": [
    "us = pd.read_csv('https://raw.githubusercontent.com/ADPclass/ADP_book_ver01/main/data/USArrests.csv')\n",
    "us.rename(columns={'Unnamed: 0':'State'}, inplace=True)\n",
    "us.head()"
   ]
  },
  {
   "cell_type": "code",
   "execution_count": null,
   "metadata": {},
   "outputs": [],
   "source": []
  }
 ],
 "metadata": {
  "kernelspec": {
   "display_name": "section4_pj",
   "language": "python",
   "name": "python3"
  },
  "language_info": {
   "codemirror_mode": {
    "name": "ipython",
    "version": 3
   },
   "file_extension": ".py",
   "mimetype": "text/x-python",
   "name": "python",
   "nbconvert_exporter": "python",
   "pygments_lexer": "ipython3",
   "version": "3.8.16"
  }
 },
 "nbformat": 4,
 "nbformat_minor": 2
}
