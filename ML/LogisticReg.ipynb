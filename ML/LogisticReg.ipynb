{
 "cells": [
  {
   "cell_type": "markdown",
   "metadata": {},
   "source": [
    "# 로지스틱 회귀(Logistic Regression)\n",
    "\n",
    "종속변수가 범주형인 경우에 적용하는 회귀분석\n",
    "\n",
    "* 종속변수 Y를 직접 모델링하지 않고, Y가 특정 범주에 속하는 확률을 모델링\n",
    "* X가 아주 큰 음수일 때 0이 되고 X가 아주 큰 양수일 때 1이 되도록 시그모이드 함수(또는 로지스틱 함수)를 사용\n",
    "\n",
    "<img src='./imgs/sigmoid.png' width='380px' height='180px'></img>\n",
    "\n",
    "* 오즈비(승산비, Odds): 실패에 비해 성공할 확률\n",
    "\n",
    "    성공확률을 p라 할 때, Odds는 p/(1-p)로 계산\n",
    "\n",
    "* 로지스틱 회귀 모델의 데이터 학습 목적은 1에 대해 높은 확률을 추정하고 0에 대해 낮은 확률을 추정하는 모델의 파라미터를 찾는 것\n",
    "\n",
    "    👉 최대 우도 추정법(MLE: Maximum Likelihood Estimation)을 사용\n"
   ]
  },
  {
   "cell_type": "code",
   "execution_count": null,
   "metadata": {},
   "outputs": [],
   "source": []
  }
 ],
 "metadata": {
  "language_info": {
   "name": "python"
  }
 },
 "nbformat": 4,
 "nbformat_minor": 2
}
