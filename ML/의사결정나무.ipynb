{
 "cells": [
  {
   "cell_type": "markdown",
   "metadata": {},
   "source": [
    "# 의사결정나무(Decision Tree)\n",
    "| 데이터를 분류하고 예측하는 결정에 이르기 위해 특정 기준에 따라 O/X 로 답할 수 있는 질문을 이어나가면서 학습하는 알고리즘\n",
    "* 분류 규칙이 명확하여 해석이 쉬움\n",
    "* 연속형, 범주형 변수를 모두 사용할 수 있음\n",
    "* 선형성, 정규성 등의 가정이 필요하지 않아 전처리 과정에 큰 영향을 받지 않음"
   ]
  },
  {
   "cell_type": "markdown",
   "metadata": {},
   "source": [
    "**DT알고리즘에서의 다중공선성**\n",
    "\n",
    "트리 모델에서 노드가 분기할 때, 불순도를 많이 낮추는 특징으로 분기\n",
    "\n",
    "만약 상관성이 매우 높은 변수가 선택되어 앞에서 분기했다면, 그 뒤의 상관성 높은 변수는 어차피 불순도를 낮추는데 큰 기여를 하지 못함"
   ]
  },
  {
   "cell_type": "markdown",
   "metadata": {},
   "source": [
    "분리기준(Splitting Criterion) \n",
    "1. 분류분석\n",
    "\n",
    "    * 카이제곱 통계량 p값\n",
    "    * 지니지수\n",
    "    * 엔트로피지수\n",
    "    \n",
    "2. 회귀분석\n",
    "\n",
    "    * 분산분석 F통계량 p값\n",
    "    * 분산의 감소량\n",
    "    \n"
   ]
  },
  {
   "cell_type": "markdown",
   "metadata": {},
   "source": [
    "결정트리 복잡도 제어\n",
    "\n",
    "| 데이터를 학습 할 때, 모든 데이터가 가가 분할되도록 가지를 치도록 모델링한다면 과적합 문제가 발생할 수 있음\n",
    "\n",
    "* 과적합 문제를 방지하기 위해 가지치기(Pruning)를 이용하여 트리의 성장을 제한\n",
    "\n",
    "    ```sklearn``` 에서 지원하는 방식은 사전에 **트리의 최대깊이**, **리프의 최대 개수**, **노드가 분할하기 위한 최소개수** 등을 지정"
   ]
  },
  {
   "cell_type": "markdown",
   "metadata": {},
   "source": [
    "```\n",
    "sklearn.tree.DecisionTreeClassifier\n",
    "(criterion, max_depth, min_samples_split, min_samples_leaf, class_weight)\n",
    "```\n",
    "1. 매개변수\n",
    "\n",
    "* criterion: 노드를 분할할 때 사용할 함수(분리기준)\n",
    "* max_depth: 트리의 최대 깊이(뻗어나갈 가지 개수)\n",
    "* min_samples_split: 내부노드를 분할하는 데 필요한 최소 샘플\n",
    "* min_samples_leaf: 리프노드에 있어야하는 최소 샘플 수\n",
    "* class_weight: 클래스 가중치\n",
    "\n",
    "2. 속성\n",
    "\n",
    "* feature_importances_: 변수중요도\n"
   ]
  },
  {
   "cell_type": "markdown",
   "metadata": {},
   "source": [
    "## DT 분류분석 - 신용데이터 예제\n",
    "* target -> credit.rating(신용등급)"
   ]
  },
  {
   "cell_type": "code",
   "execution_count": 2,
   "metadata": {},
   "outputs": [],
   "source": [
    "import pandas as pd \n",
    "import numpy as np\n",
    "import matplotlib.pyplot as plt\n",
    "\n",
    "from sklearn.tree import DecisionTreeClassifier # 모델\n",
    "from sklearn.model_selection import train_test_split # 데이터 분할\n",
    "from sklearn.metrics import * # 성능평가"
   ]
  },
  {
   "cell_type": "code",
   "execution_count": 3,
   "metadata": {},
   "outputs": [
    {
     "data": {
      "text/html": [
       "<div>\n",
       "<style scoped>\n",
       "    .dataframe tbody tr th:only-of-type {\n",
       "        vertical-align: middle;\n",
       "    }\n",
       "\n",
       "    .dataframe tbody tr th {\n",
       "        vertical-align: top;\n",
       "    }\n",
       "\n",
       "    .dataframe thead th {\n",
       "        text-align: right;\n",
       "    }\n",
       "</style>\n",
       "<table border=\"1\" class=\"dataframe\">\n",
       "  <thead>\n",
       "    <tr style=\"text-align: right;\">\n",
       "      <th></th>\n",
       "      <th>credit.rating</th>\n",
       "      <th>account.balance</th>\n",
       "      <th>credit.duration.months</th>\n",
       "      <th>previous.credit.payment.status</th>\n",
       "      <th>credit.purpose</th>\n",
       "      <th>credit.amount</th>\n",
       "      <th>savings</th>\n",
       "      <th>employment.duration</th>\n",
       "      <th>installment.rate</th>\n",
       "      <th>marital.status</th>\n",
       "      <th>...</th>\n",
       "      <th>residence.duration</th>\n",
       "      <th>current.assets</th>\n",
       "      <th>age</th>\n",
       "      <th>other.credits</th>\n",
       "      <th>apartment.type</th>\n",
       "      <th>bank.credits</th>\n",
       "      <th>occupation</th>\n",
       "      <th>dependents</th>\n",
       "      <th>telephone</th>\n",
       "      <th>foreign.worker</th>\n",
       "    </tr>\n",
       "  </thead>\n",
       "  <tbody>\n",
       "    <tr>\n",
       "      <th>0</th>\n",
       "      <td>1</td>\n",
       "      <td>1</td>\n",
       "      <td>18</td>\n",
       "      <td>3</td>\n",
       "      <td>2</td>\n",
       "      <td>1049</td>\n",
       "      <td>1</td>\n",
       "      <td>1</td>\n",
       "      <td>4</td>\n",
       "      <td>1</td>\n",
       "      <td>...</td>\n",
       "      <td>4</td>\n",
       "      <td>2</td>\n",
       "      <td>21</td>\n",
       "      <td>2</td>\n",
       "      <td>1</td>\n",
       "      <td>1</td>\n",
       "      <td>3</td>\n",
       "      <td>1</td>\n",
       "      <td>1</td>\n",
       "      <td>1</td>\n",
       "    </tr>\n",
       "    <tr>\n",
       "      <th>1</th>\n",
       "      <td>1</td>\n",
       "      <td>1</td>\n",
       "      <td>9</td>\n",
       "      <td>3</td>\n",
       "      <td>4</td>\n",
       "      <td>2799</td>\n",
       "      <td>1</td>\n",
       "      <td>2</td>\n",
       "      <td>2</td>\n",
       "      <td>3</td>\n",
       "      <td>...</td>\n",
       "      <td>2</td>\n",
       "      <td>1</td>\n",
       "      <td>36</td>\n",
       "      <td>2</td>\n",
       "      <td>1</td>\n",
       "      <td>2</td>\n",
       "      <td>3</td>\n",
       "      <td>2</td>\n",
       "      <td>1</td>\n",
       "      <td>1</td>\n",
       "    </tr>\n",
       "    <tr>\n",
       "      <th>2</th>\n",
       "      <td>1</td>\n",
       "      <td>2</td>\n",
       "      <td>12</td>\n",
       "      <td>2</td>\n",
       "      <td>4</td>\n",
       "      <td>841</td>\n",
       "      <td>2</td>\n",
       "      <td>3</td>\n",
       "      <td>2</td>\n",
       "      <td>1</td>\n",
       "      <td>...</td>\n",
       "      <td>4</td>\n",
       "      <td>1</td>\n",
       "      <td>23</td>\n",
       "      <td>2</td>\n",
       "      <td>1</td>\n",
       "      <td>1</td>\n",
       "      <td>2</td>\n",
       "      <td>1</td>\n",
       "      <td>1</td>\n",
       "      <td>1</td>\n",
       "    </tr>\n",
       "    <tr>\n",
       "      <th>3</th>\n",
       "      <td>1</td>\n",
       "      <td>1</td>\n",
       "      <td>12</td>\n",
       "      <td>3</td>\n",
       "      <td>4</td>\n",
       "      <td>2122</td>\n",
       "      <td>1</td>\n",
       "      <td>2</td>\n",
       "      <td>3</td>\n",
       "      <td>3</td>\n",
       "      <td>...</td>\n",
       "      <td>2</td>\n",
       "      <td>1</td>\n",
       "      <td>39</td>\n",
       "      <td>2</td>\n",
       "      <td>1</td>\n",
       "      <td>2</td>\n",
       "      <td>2</td>\n",
       "      <td>2</td>\n",
       "      <td>1</td>\n",
       "      <td>2</td>\n",
       "    </tr>\n",
       "    <tr>\n",
       "      <th>4</th>\n",
       "      <td>1</td>\n",
       "      <td>1</td>\n",
       "      <td>12</td>\n",
       "      <td>3</td>\n",
       "      <td>4</td>\n",
       "      <td>2171</td>\n",
       "      <td>1</td>\n",
       "      <td>2</td>\n",
       "      <td>4</td>\n",
       "      <td>3</td>\n",
       "      <td>...</td>\n",
       "      <td>4</td>\n",
       "      <td>2</td>\n",
       "      <td>38</td>\n",
       "      <td>1</td>\n",
       "      <td>2</td>\n",
       "      <td>2</td>\n",
       "      <td>2</td>\n",
       "      <td>1</td>\n",
       "      <td>1</td>\n",
       "      <td>2</td>\n",
       "    </tr>\n",
       "  </tbody>\n",
       "</table>\n",
       "<p>5 rows × 21 columns</p>\n",
       "</div>"
      ],
      "text/plain": [
       "   credit.rating  account.balance  credit.duration.months  \\\n",
       "0              1                1                      18   \n",
       "1              1                1                       9   \n",
       "2              1                2                      12   \n",
       "3              1                1                      12   \n",
       "4              1                1                      12   \n",
       "\n",
       "   previous.credit.payment.status  credit.purpose  credit.amount  savings  \\\n",
       "0                               3               2           1049        1   \n",
       "1                               3               4           2799        1   \n",
       "2                               2               4            841        2   \n",
       "3                               3               4           2122        1   \n",
       "4                               3               4           2171        1   \n",
       "\n",
       "   employment.duration  installment.rate  marital.status  ...  \\\n",
       "0                    1                 4               1  ...   \n",
       "1                    2                 2               3  ...   \n",
       "2                    3                 2               1  ...   \n",
       "3                    2                 3               3  ...   \n",
       "4                    2                 4               3  ...   \n",
       "\n",
       "   residence.duration  current.assets  age  other.credits  apartment.type  \\\n",
       "0                   4               2   21              2               1   \n",
       "1                   2               1   36              2               1   \n",
       "2                   4               1   23              2               1   \n",
       "3                   2               1   39              2               1   \n",
       "4                   4               2   38              1               2   \n",
       "\n",
       "   bank.credits  occupation  dependents  telephone  foreign.worker  \n",
       "0             1           3           1          1               1  \n",
       "1             2           3           2          1               1  \n",
       "2             1           2           1          1               1  \n",
       "3             2           2           2          1               2  \n",
       "4             2           2           1          1               2  \n",
       "\n",
       "[5 rows x 21 columns]"
      ]
     },
     "execution_count": 3,
     "metadata": {},
     "output_type": "execute_result"
    }
   ],
   "source": [
    "credit = pd.read_csv('https://raw.githubusercontent.com/ADPclass/ADP_book_ver01/main/data/credit_final.csv')\n",
    "credit.head()"
   ]
  },
  {
   "cell_type": "code",
   "execution_count": 4,
   "metadata": {},
   "outputs": [
    {
     "data": {
      "text/plain": [
       "credit.rating\n",
       "1    0.7\n",
       "0    0.3\n",
       "Name: proportion, dtype: float64"
      ]
     },
     "execution_count": 4,
     "metadata": {},
     "output_type": "execute_result"
    }
   ],
   "source": [
    "credit['credit.rating'].value_counts(normalize=True)"
   ]
  },
  {
   "cell_type": "code",
   "execution_count": 5,
   "metadata": {},
   "outputs": [
    {
     "name": "stdout",
     "output_type": "stream",
     "text": [
      "\n",
      "      정확도: 0.7066666666666667%\n",
      "      재현율: 0.8761904761904762\n",
      "      정밀도: 0.7479674796747967\n",
      "      F1: 0.807017543859649\n"
     ]
    }
   ],
   "source": [
    "# 데이터 분할\n",
    "x = credit.drop('credit.rating', axis=1)\n",
    "y = credit['credit.rating']\n",
    "x_train, x_test, y_train, y_test = train_test_split(x, y, test_size=.3, random_state=1, stratify=y)\n",
    "# 학습\n",
    "clf = DecisionTreeClassifier(max_depth=5)\n",
    "clf.fit(x_train, y_train)\n",
    "# 예측\n",
    "pred_tt = clf.predict(x_test)\n",
    "# 평가\n",
    "acc = accuracy_score(y_test, pred_tt)\n",
    "rcll = recall_score(y_test, pred_tt)\n",
    "prc = precision_score(y_test, pred_tt)\n",
    "f1 = f1_score(y_test, pred_tt)\n",
    "\n",
    "print(f'''\n",
    "      정확도: {acc}%\n",
    "      재현율: {rcll}\n",
    "      정밀도: {prc}\n",
    "      F1: {f1}''')"
   ]
  },
  {
   "cell_type": "code",
   "execution_count": 6,
   "metadata": {},
   "outputs": [
    {
     "name": "stdout",
     "output_type": "stream",
     "text": [
      "              precision    recall  f1-score   support\n",
      "\n",
      "           0       0.52      0.31      0.39        90\n",
      "           1       0.75      0.88      0.81       210\n",
      "\n",
      "    accuracy                           0.71       300\n",
      "   macro avg       0.63      0.59      0.60       300\n",
      "weighted avg       0.68      0.71      0.68       300\n",
      "\n"
     ]
    }
   ],
   "source": [
    "# classification_report\n",
    "print(classification_report(y_test, pred_tt))"
   ]
  },
  {
   "cell_type": "code",
   "execution_count": 7,
   "metadata": {},
   "outputs": [
    {
     "name": "stderr",
     "output_type": "stream",
     "text": [
      "/Users/sai/anaconda3/envs/section4_pj/lib/python3.8/site-packages/sklearn/utils/deprecation.py:87: FutureWarning: Function plot_roc_curve is deprecated; Function :func:`plot_roc_curve` is deprecated in 1.0 and will be removed in 1.2. Use one of the class methods: :meth:`sklearn.metrics.RocCurveDisplay.from_predictions` or :meth:`sklearn.metrics.RocCurveDisplay.from_estimator`.\n",
      "  warnings.warn(msg, category=FutureWarning)\n"
     ]
    },
    {
     "data": {
      "image/png": "[encoded data removed]",
      "text/plain": [
       "<Figure size 640x480 with 1 Axes>"
      ]
     },
     "metadata": {},
     "output_type": "display_data"
    },
    {
     "name": "stdout",
     "output_type": "stream",
     "text": [
      "0.7221428571428572\n"
     ]
    }
   ],
   "source": [
    "# roc-auc score\n",
    "plot_roc_curve(clf, x_test, y_test)\n",
    "plt.show();\n",
    "print(roc_auc_score(y_test, clf.predict_proba(x_test)[:, 1]))"
   ]
  },
  {
   "cell_type": "code",
   "execution_count": 8,
   "metadata": {},
   "outputs": [],
   "source": [
    "# 변수 중요도 확인\n",
    "importances = pd.DataFrame(clf.feature_importances_)\n",
    "cols = pd.DataFrame(x.columns)\n",
    "feature_impt = pd.concat([cols, importances], axis=1)\n",
    "feature_impt.columns = ['feature_name', 'importance']\n",
    "feature_impt.sort_values('importance', ascending=False, inplace=True)\n",
    "feature_impt.reset_index(drop=True, inplace=True)\n",
    "\n"
   ]
  },
  {
   "cell_type": "code",
   "execution_count": 9,
   "metadata": {},
   "outputs": [],
   "source": [
    "selected_cols = list(feature_impt.iloc[:10, 0])\n"
   ]
  },
  {
   "cell_type": "code",
   "execution_count": 10,
   "metadata": {},
   "outputs": [],
   "source": [
    "from sklearn.model_selection import GridSearchCV, RandomizedSearchCV"
   ]
  },
  {
   "cell_type": "markdown",
   "metadata": {},
   "source": [
    "<img src='./imgs/scoring_keys.png' width=500px height=300px></img>\n",
    "\n",
    "https://sophiesien.tistory.com/entry/sklearn-GridsearchCV-scoring-key"
   ]
  },
  {
   "cell_type": "code",
   "execution_count": 11,
   "metadata": {},
   "outputs": [
    {
     "data": {
      "text/html": [
       "<style>#sk-container-id-1 {color: black;background-color: white;}#sk-container-id-1 pre{padding: 0;}#sk-container-id-1 div.sk-toggleable {background-color: white;}#sk-container-id-1 label.sk-toggleable__label {cursor: pointer;display: block;width: 100%;margin-bottom: 0;padding: 0.3em;box-sizing: border-box;text-align: center;}#sk-container-id-1 label.sk-toggleable__label-arrow:before {content: \"▸\";float: left;margin-right: 0.25em;color: #696969;}#sk-container-id-1 label.sk-toggleable__label-arrow:hover:before {color: black;}#sk-container-id-1 div.sk-estimator:hover label.sk-toggleable__label-arrow:before {color: black;}#sk-container-id-1 div.sk-toggleable__content {max-height: 0;max-width: 0;overflow: hidden;text-align: left;background-color: #f0f8ff;}#sk-container-id-1 div.sk-toggleable__content pre {margin: 0.2em;color: black;border-radius: 0.25em;background-color: #f0f8ff;}#sk-container-id-1 input.sk-toggleable__control:checked~div.sk-toggleable__content {max-height: 200px;max-width: 100%;overflow: auto;}#sk-container-id-1 input.sk-toggleable__control:checked~label.sk-toggleable__label-arrow:before {content: \"▾\";}#sk-container-id-1 div.sk-estimator input.sk-toggleable__control:checked~label.sk-toggleable__label {background-color: #d4ebff;}#sk-container-id-1 div.sk-label input.sk-toggleable__control:checked~label.sk-toggleable__label {background-color: #d4ebff;}#sk-container-id-1 input.sk-hidden--visually {border: 0;clip: rect(1px 1px 1px 1px);clip: rect(1px, 1px, 1px, 1px);height: 1px;margin: -1px;overflow: hidden;padding: 0;position: absolute;width: 1px;}#sk-container-id-1 div.sk-estimator {font-family: monospace;background-color: #f0f8ff;border: 1px dotted black;border-radius: 0.25em;box-sizing: border-box;margin-bottom: 0.5em;}#sk-container-id-1 div.sk-estimator:hover {background-color: #d4ebff;}#sk-container-id-1 div.sk-parallel-item::after {content: \"\";width: 100%;border-bottom: 1px solid gray;flex-grow: 1;}#sk-container-id-1 div.sk-label:hover label.sk-toggleable__label {background-color: #d4ebff;}#sk-container-id-1 div.sk-serial::before {content: \"\";position: absolute;border-left: 1px solid gray;box-sizing: border-box;top: 0;bottom: 0;left: 50%;z-index: 0;}#sk-container-id-1 div.sk-serial {display: flex;flex-direction: column;align-items: center;background-color: white;padding-right: 0.2em;padding-left: 0.2em;position: relative;}#sk-container-id-1 div.sk-item {position: relative;z-index: 1;}#sk-container-id-1 div.sk-parallel {display: flex;align-items: stretch;justify-content: center;background-color: white;position: relative;}#sk-container-id-1 div.sk-item::before, #sk-container-id-1 div.sk-parallel-item::before {content: \"\";position: absolute;border-left: 1px solid gray;box-sizing: border-box;top: 0;bottom: 0;left: 50%;z-index: -1;}#sk-container-id-1 div.sk-parallel-item {display: flex;flex-direction: column;z-index: 1;position: relative;background-color: white;}#sk-container-id-1 div.sk-parallel-item:first-child::after {align-self: flex-end;width: 50%;}#sk-container-id-1 div.sk-parallel-item:last-child::after {align-self: flex-start;width: 50%;}#sk-container-id-1 div.sk-parallel-item:only-child::after {width: 0;}#sk-container-id-1 div.sk-dashed-wrapped {border: 1px dashed gray;margin: 0 0.4em 0.5em 0.4em;box-sizing: border-box;padding-bottom: 0.4em;background-color: white;}#sk-container-id-1 div.sk-label label {font-family: monospace;font-weight: bold;display: inline-block;line-height: 1.2em;}#sk-container-id-1 div.sk-label-container {text-align: center;}#sk-container-id-1 div.sk-container {/* jupyter's `normalize.less` sets `[hidden] { display: none; }` but bootstrap.min.css set `[hidden] { display: none !important; }` so we also need the `!important` here to be able to override the default hidden behavior on the sphinx rendered scikit-learn.org. See: https://github.com/scikit-learn/scikit-learn/issues/21755 */display: inline-block !important;position: relative;}#sk-container-id-1 div.sk-text-repr-fallback {display: none;}</style><div id=\"sk-container-id-1\" class=\"sk-top-container\"><div class=\"sk-text-repr-fallback\"><pre>RandomizedSearchCV(cv=5,\n",
       "                   estimator=DecisionTreeClassifier(class_weight=&#x27;balanced&#x27;),\n",
       "                   n_iter=30,\n",
       "                   param_distributions={&#x27;max_depth&#x27;: array([ 1,  2,  3,  4,  5,  6,  7,  8,  9, 10, 11, 12, 13, 14, 15]),\n",
       "                                        &#x27;min_samples_leaf&#x27;: array([ 5, 10, 15, 20, 25, 30, 35, 40, 45]),\n",
       "                                        &#x27;min_samples_split&#x27;: array([ 2,  4,  6,  8, 10, 12, 14, 16, 18])},\n",
       "                   scoring=&#x27;recall&#x27;)</pre><b>In a Jupyter environment, please rerun this cell to show the HTML representation or trust the notebook. <br />On GitHub, the HTML representation is unable to render, please try loading this page with nbviewer.org.</b></div><div class=\"sk-container\" hidden><div class=\"sk-item sk-dashed-wrapped\"><div class=\"sk-label-container\"><div class=\"sk-label sk-toggleable\"><input class=\"sk-toggleable__control sk-hidden--visually\" id=\"sk-estimator-id-1\" type=\"checkbox\" ><label for=\"sk-estimator-id-1\" class=\"sk-toggleable__label sk-toggleable__label-arrow\">RandomizedSearchCV</label><div class=\"sk-toggleable__content\"><pre>RandomizedSearchCV(cv=5,\n",
       "                   estimator=DecisionTreeClassifier(class_weight=&#x27;balanced&#x27;),\n",
       "                   n_iter=30,\n",
       "                   param_distributions={&#x27;max_depth&#x27;: array([ 1,  2,  3,  4,  5,  6,  7,  8,  9, 10, 11, 12, 13, 14, 15]),\n",
       "                                        &#x27;min_samples_leaf&#x27;: array([ 5, 10, 15, 20, 25, 30, 35, 40, 45]),\n",
       "                                        &#x27;min_samples_split&#x27;: array([ 2,  4,  6,  8, 10, 12, 14, 16, 18])},\n",
       "                   scoring=&#x27;recall&#x27;)</pre></div></div></div><div class=\"sk-parallel\"><div class=\"sk-parallel-item\"><div class=\"sk-item\"><div class=\"sk-label-container\"><div class=\"sk-label sk-toggleable\"><input class=\"sk-toggleable__control sk-hidden--visually\" id=\"sk-estimator-id-2\" type=\"checkbox\" ><label for=\"sk-estimator-id-2\" class=\"sk-toggleable__label sk-toggleable__label-arrow\">estimator: DecisionTreeClassifier</label><div class=\"sk-toggleable__content\"><pre>DecisionTreeClassifier(class_weight=&#x27;balanced&#x27;)</pre></div></div></div><div class=\"sk-serial\"><div class=\"sk-item\"><div class=\"sk-estimator sk-toggleable\"><input class=\"sk-toggleable__control sk-hidden--visually\" id=\"sk-estimator-id-3\" type=\"checkbox\" ><label for=\"sk-estimator-id-3\" class=\"sk-toggleable__label sk-toggleable__label-arrow\">DecisionTreeClassifier</label><div class=\"sk-toggleable__content\"><pre>DecisionTreeClassifier(class_weight=&#x27;balanced&#x27;)</pre></div></div></div></div></div></div></div></div></div></div>"
      ],
      "text/plain": [
       "RandomizedSearchCV(cv=5,\n",
       "                   estimator=DecisionTreeClassifier(class_weight='balanced'),\n",
       "                   n_iter=30,\n",
       "                   param_distributions={'max_depth': array([ 1,  2,  3,  4,  5,  6,  7,  8,  9, 10, 11, 12, 13, 14, 15]),\n",
       "                                        'min_samples_leaf': array([ 5, 10, 15, 20, 25, 30, 35, 40, 45]),\n",
       "                                        'min_samples_split': array([ 2,  4,  6,  8, 10, 12, 14, 16, 18])},\n",
       "                   scoring='recall')"
      ]
     },
     "execution_count": 11,
     "metadata": {},
     "output_type": "execute_result"
    }
   ],
   "source": [
    "# 변수 제거\n",
    "x_train = x_train[selected_cols]\n",
    "x_test = x_test[selected_cols]\n",
    "# 하이퍼 파라미터 튜닝 - 랜덤=>그리드\n",
    "dt = DecisionTreeClassifier(class_weight='balanced')\n",
    "param_distributions = {\n",
    "    'max_depth': np.arange(1, 16),\n",
    "    'min_samples_split': np.arange(2, 20, 2),\n",
    "    'min_samples_leaf': np.arange(5, 50, 5)\n",
    "}\n",
    "random_dt = RandomizedSearchCV(\n",
    "    dt,\n",
    "    param_distributions=param_distributions,\n",
    "    n_iter=30,\n",
    "    scoring='recall',\n",
    "    cv=5\n",
    ")\n",
    "random_dt.fit(x_train, y_train)"
   ]
  },
  {
   "cell_type": "code",
   "execution_count": 12,
   "metadata": {},
   "outputs": [
    {
     "data": {
      "text/plain": [
       "{'min_samples_split': 2, 'min_samples_leaf': 45, 'max_depth': 2}"
      ]
     },
     "execution_count": 12,
     "metadata": {},
     "output_type": "execute_result"
    }
   ],
   "source": [
    "random_dt.best_params_"
   ]
  },
  {
   "cell_type": "code",
   "execution_count": 13,
   "metadata": {},
   "outputs": [
    {
     "data": {
      "text/plain": [
       "{'max_depth': 2, 'min_samples_leaf': 40, 'min_samples_split': 2}"
      ]
     },
     "execution_count": 13,
     "metadata": {},
     "output_type": "execute_result"
    }
   ],
   "source": [
    "# 범위 좁혀서 GridSearchCV 진행\n",
    "param_grid = {\n",
    "    'max_depth': np.arange(1, 8),\n",
    "    'min_samples_leaf': np.arange(40, 50),\n",
    "    'min_samples_split': np.arange(2, 10)\n",
    "}\n",
    "dt = DecisionTreeClassifier(class_weight='balanced', min_samples_split=2)\n",
    "grid_dt = GridSearchCV(\n",
    "    dt,\n",
    "    param_grid=param_grid,\n",
    "    scoring='recall',\n",
    "    cv=5\n",
    ")\n",
    "grid_dt.fit(x_train, y_train)\n",
    "grid_dt.best_params_"
   ]
  },
  {
   "cell_type": "code",
   "execution_count": 14,
   "metadata": {},
   "outputs": [
    {
     "data": {
      "text/plain": [
       "({'min_samples_leaf': 37}, 0.7816326530612245)"
      ]
     },
     "execution_count": 14,
     "metadata": {},
     "output_type": "execute_result"
    }
   ],
   "source": [
    "dt = DecisionTreeClassifier(class_weight='balanced', min_samples_split=2, max_depth=2)\n",
    "param_grid = {\n",
    "    'min_samples_leaf': np.arange(30, 40)\n",
    "}\n",
    "grid_dt = GridSearchCV(\n",
    "    dt,\n",
    "    param_grid=param_grid,\n",
    "    scoring='recall',\n",
    "    cv=5\n",
    ")\n",
    "grid_dt.fit(x_train, y_train)\n",
    "grid_dt.best_params_, grid_dt.best_score_"
   ]
  },
  {
   "cell_type": "markdown",
   "metadata": {},
   "source": [
    "* 신용등급 1 / 0 실제 1을 놓치면 고객 손실 우려가 있기 때문에 recall이 중요하지 않을까?"
   ]
  },
  {
   "cell_type": "code",
   "execution_count": 15,
   "metadata": {},
   "outputs": [
    {
     "name": "stdout",
     "output_type": "stream",
     "text": [
      "[[ 30  60]\n",
      " [ 33 177]]\n",
      "\n",
      "      재현율: 0.8428571428571429\n",
      "      F1: 0.7919463087248322\n"
     ]
    }
   ],
   "source": [
    "# 일반화 성능 확인\n",
    "model = grid_dt.best_estimator_\n",
    "pred_tt = model.predict(x_test)\n",
    "# 혼동행렬\n",
    "print(confusion_matrix(y_test, pred_tt))\n",
    "# 재현율, F1 스코어 확인\n",
    "print(f'''\n",
    "      재현율: {recall_score(y_test, pred_tt)}\n",
    "      F1: {f1_score(y_test, pred_tt)}''')"
   ]
  },
  {
   "cell_type": "markdown",
   "metadata": {},
   "source": [
    "## DT 회귀분석 - 부동산 시세 데이터"
   ]
  },
  {
   "cell_type": "code",
   "execution_count": 16,
   "metadata": {},
   "outputs": [],
   "source": [
    "import pandas as pd\n",
    "import numpy as np\n",
    "import matplotlib.pyplot as plt\n",
    "\n",
    "from sklearn.model_selection import train_test_split # 데이터 분할\n",
    "from sklearn.tree import DecisionTreeRegressor # 회귀 알고리즘\n",
    "from sklearn.metrics import * # 성능 평가\n"
   ]
  },
  {
   "cell_type": "code",
   "execution_count": 17,
   "metadata": {},
   "outputs": [
    {
     "data": {
      "text/html": [
       "<div>\n",
       "<style scoped>\n",
       "    .dataframe tbody tr th:only-of-type {\n",
       "        vertical-align: middle;\n",
       "    }\n",
       "\n",
       "    .dataframe tbody tr th {\n",
       "        vertical-align: top;\n",
       "    }\n",
       "\n",
       "    .dataframe thead th {\n",
       "        text-align: right;\n",
       "    }\n",
       "</style>\n",
       "<table border=\"1\" class=\"dataframe\">\n",
       "  <thead>\n",
       "    <tr style=\"text-align: right;\">\n",
       "      <th></th>\n",
       "      <th>age</th>\n",
       "      <th>sex</th>\n",
       "      <th>bmi</th>\n",
       "      <th>children</th>\n",
       "      <th>smoker</th>\n",
       "      <th>region</th>\n",
       "      <th>charges</th>\n",
       "    </tr>\n",
       "  </thead>\n",
       "  <tbody>\n",
       "    <tr>\n",
       "      <th>0</th>\n",
       "      <td>19</td>\n",
       "      <td>female</td>\n",
       "      <td>27.900</td>\n",
       "      <td>0</td>\n",
       "      <td>yes</td>\n",
       "      <td>southwest</td>\n",
       "      <td>16884.92400</td>\n",
       "    </tr>\n",
       "    <tr>\n",
       "      <th>1</th>\n",
       "      <td>18</td>\n",
       "      <td>male</td>\n",
       "      <td>33.770</td>\n",
       "      <td>1</td>\n",
       "      <td>no</td>\n",
       "      <td>southeast</td>\n",
       "      <td>1725.55230</td>\n",
       "    </tr>\n",
       "    <tr>\n",
       "      <th>2</th>\n",
       "      <td>28</td>\n",
       "      <td>male</td>\n",
       "      <td>33.000</td>\n",
       "      <td>3</td>\n",
       "      <td>no</td>\n",
       "      <td>southeast</td>\n",
       "      <td>4449.46200</td>\n",
       "    </tr>\n",
       "    <tr>\n",
       "      <th>3</th>\n",
       "      <td>33</td>\n",
       "      <td>male</td>\n",
       "      <td>22.705</td>\n",
       "      <td>0</td>\n",
       "      <td>no</td>\n",
       "      <td>northwest</td>\n",
       "      <td>21984.47061</td>\n",
       "    </tr>\n",
       "    <tr>\n",
       "      <th>4</th>\n",
       "      <td>32</td>\n",
       "      <td>male</td>\n",
       "      <td>28.880</td>\n",
       "      <td>0</td>\n",
       "      <td>no</td>\n",
       "      <td>northwest</td>\n",
       "      <td>3866.85520</td>\n",
       "    </tr>\n",
       "  </tbody>\n",
       "</table>\n",
       "</div>"
      ],
      "text/plain": [
       "   age     sex     bmi  children smoker     region      charges\n",
       "0   19  female  27.900         0    yes  southwest  16884.92400\n",
       "1   18    male  33.770         1     no  southeast   1725.55230\n",
       "2   28    male  33.000         3     no  southeast   4449.46200\n",
       "3   33    male  22.705         0     no  northwest  21984.47061\n",
       "4   32    male  28.880         0     no  northwest   3866.85520"
      ]
     },
     "execution_count": 17,
     "metadata": {},
     "output_type": "execute_result"
    }
   ],
   "source": [
    "# 보험료 데이터\n",
    "data = pd.read_csv('https://raw.githubusercontent.com/ADPclass/ADP_book_ver01/main/data/insurance.csv')\n",
    "data.head()"
   ]
  },
  {
   "cell_type": "code",
   "execution_count": 18,
   "metadata": {},
   "outputs": [
    {
     "data": {
      "text/plain": [
       "age         0\n",
       "sex         0\n",
       "bmi         0\n",
       "children    0\n",
       "smoker      0\n",
       "region      0\n",
       "charges     0\n",
       "dtype: int64"
      ]
     },
     "execution_count": 18,
     "metadata": {},
     "output_type": "execute_result"
    }
   ],
   "source": [
    "# 결측치, 이상치\n",
    "data.isna().sum()"
   ]
  },
  {
   "cell_type": "code",
   "execution_count": 19,
   "metadata": {},
   "outputs": [
    {
     "name": "stdout",
     "output_type": "stream",
     "text": [
      "<class 'pandas.core.frame.DataFrame'>\n",
      "Index: 1337 entries, 0 to 1337\n",
      "Data columns (total 7 columns):\n",
      " #   Column    Non-Null Count  Dtype  \n",
      "---  ------    --------------  -----  \n",
      " 0   age       1337 non-null   int64  \n",
      " 1   sex       1337 non-null   object \n",
      " 2   bmi       1337 non-null   float64\n",
      " 3   children  1337 non-null   int64  \n",
      " 4   smoker    1337 non-null   object \n",
      " 5   region    1337 non-null   object \n",
      " 6   charges   1337 non-null   float64\n",
      "dtypes: float64(2), int64(2), object(3)\n",
      "memory usage: 83.6+ KB\n"
     ]
    }
   ],
   "source": [
    "data.drop_duplicates(inplace=True)\n",
    "data.info()"
   ]
  },
  {
   "cell_type": "code",
   "execution_count": 20,
   "metadata": {},
   "outputs": [
    {
     "data": {
      "text/html": [
       "<div>\n",
       "<style scoped>\n",
       "    .dataframe tbody tr th:only-of-type {\n",
       "        vertical-align: middle;\n",
       "    }\n",
       "\n",
       "    .dataframe tbody tr th {\n",
       "        vertical-align: top;\n",
       "    }\n",
       "\n",
       "    .dataframe thead th {\n",
       "        text-align: right;\n",
       "    }\n",
       "</style>\n",
       "<table border=\"1\" class=\"dataframe\">\n",
       "  <thead>\n",
       "    <tr style=\"text-align: right;\">\n",
       "      <th></th>\n",
       "      <th>age</th>\n",
       "      <th>sex</th>\n",
       "      <th>bmi</th>\n",
       "      <th>children</th>\n",
       "      <th>smoker</th>\n",
       "      <th>region</th>\n",
       "      <th>charges</th>\n",
       "    </tr>\n",
       "  </thead>\n",
       "  <tbody>\n",
       "    <tr>\n",
       "      <th>0</th>\n",
       "      <td>19</td>\n",
       "      <td>1</td>\n",
       "      <td>27.900</td>\n",
       "      <td>0</td>\n",
       "      <td>1</td>\n",
       "      <td>southwest</td>\n",
       "      <td>16884.92400</td>\n",
       "    </tr>\n",
       "    <tr>\n",
       "      <th>1</th>\n",
       "      <td>18</td>\n",
       "      <td>0</td>\n",
       "      <td>33.770</td>\n",
       "      <td>1</td>\n",
       "      <td>0</td>\n",
       "      <td>southeast</td>\n",
       "      <td>1725.55230</td>\n",
       "    </tr>\n",
       "    <tr>\n",
       "      <th>2</th>\n",
       "      <td>28</td>\n",
       "      <td>0</td>\n",
       "      <td>33.000</td>\n",
       "      <td>3</td>\n",
       "      <td>0</td>\n",
       "      <td>southeast</td>\n",
       "      <td>4449.46200</td>\n",
       "    </tr>\n",
       "    <tr>\n",
       "      <th>3</th>\n",
       "      <td>33</td>\n",
       "      <td>0</td>\n",
       "      <td>22.705</td>\n",
       "      <td>0</td>\n",
       "      <td>0</td>\n",
       "      <td>northwest</td>\n",
       "      <td>21984.47061</td>\n",
       "    </tr>\n",
       "    <tr>\n",
       "      <th>4</th>\n",
       "      <td>32</td>\n",
       "      <td>0</td>\n",
       "      <td>28.880</td>\n",
       "      <td>0</td>\n",
       "      <td>0</td>\n",
       "      <td>northwest</td>\n",
       "      <td>3866.85520</td>\n",
       "    </tr>\n",
       "  </tbody>\n",
       "</table>\n",
       "</div>"
      ],
      "text/plain": [
       "   age  sex     bmi  children  smoker     region      charges\n",
       "0   19    1  27.900         0       1  southwest  16884.92400\n",
       "1   18    0  33.770         1       0  southeast   1725.55230\n",
       "2   28    0  33.000         3       0  southeast   4449.46200\n",
       "3   33    0  22.705         0       0  northwest  21984.47061\n",
       "4   32    0  28.880         0       0  northwest   3866.85520"
      ]
     },
     "execution_count": 20,
     "metadata": {},
     "output_type": "execute_result"
    }
   ],
   "source": [
    "# 인코딩(sex, smoker)\n",
    "data['sex'] = np.where(data.sex =='female', 1, 0)\n",
    "data['smoker'] = np.where(data.smoker == 'yes', 1, 0)\n",
    "data.head()"
   ]
  },
  {
   "cell_type": "code",
   "execution_count": 21,
   "metadata": {},
   "outputs": [],
   "source": [
    "# Ordinal 인코딩\n",
    "from sklearn.preprocessing import OrdinalEncoder\n",
    "ode = OrdinalEncoder()\n",
    "regions = ode.fit_transform(data[['region']])"
   ]
  },
  {
   "cell_type": "code",
   "execution_count": 22,
   "metadata": {},
   "outputs": [],
   "source": [
    "data['region'] = regions.astype('int')"
   ]
  },
  {
   "cell_type": "code",
   "execution_count": 23,
   "metadata": {},
   "outputs": [
    {
     "data": {
      "text/html": [
       "<div>\n",
       "<style scoped>\n",
       "    .dataframe tbody tr th:only-of-type {\n",
       "        vertical-align: middle;\n",
       "    }\n",
       "\n",
       "    .dataframe tbody tr th {\n",
       "        vertical-align: top;\n",
       "    }\n",
       "\n",
       "    .dataframe thead th {\n",
       "        text-align: right;\n",
       "    }\n",
       "</style>\n",
       "<table border=\"1\" class=\"dataframe\">\n",
       "  <thead>\n",
       "    <tr style=\"text-align: right;\">\n",
       "      <th></th>\n",
       "      <th>age</th>\n",
       "      <th>sex</th>\n",
       "      <th>bmi</th>\n",
       "      <th>children</th>\n",
       "      <th>smoker</th>\n",
       "      <th>region</th>\n",
       "      <th>charges</th>\n",
       "    </tr>\n",
       "  </thead>\n",
       "  <tbody>\n",
       "    <tr>\n",
       "      <th>charges</th>\n",
       "      <td>0.298308</td>\n",
       "      <td>-0.058044</td>\n",
       "      <td>0.198401</td>\n",
       "      <td>0.067389</td>\n",
       "      <td>0.787234</td>\n",
       "      <td>-0.006547</td>\n",
       "      <td>1.000000</td>\n",
       "    </tr>\n",
       "    <tr>\n",
       "      <th>smoker</th>\n",
       "      <td>-0.025587</td>\n",
       "      <td>-0.076596</td>\n",
       "      <td>0.003746</td>\n",
       "      <td>0.007331</td>\n",
       "      <td>1.000000</td>\n",
       "      <td>-0.002358</td>\n",
       "      <td>0.787234</td>\n",
       "    </tr>\n",
       "    <tr>\n",
       "      <th>age</th>\n",
       "      <td>1.000000</td>\n",
       "      <td>0.019814</td>\n",
       "      <td>0.109344</td>\n",
       "      <td>0.041536</td>\n",
       "      <td>-0.025587</td>\n",
       "      <td>0.001626</td>\n",
       "      <td>0.298308</td>\n",
       "    </tr>\n",
       "    <tr>\n",
       "      <th>bmi</th>\n",
       "      <td>0.109344</td>\n",
       "      <td>-0.046397</td>\n",
       "      <td>1.000000</td>\n",
       "      <td>0.012755</td>\n",
       "      <td>0.003746</td>\n",
       "      <td>0.157574</td>\n",
       "      <td>0.198401</td>\n",
       "    </tr>\n",
       "    <tr>\n",
       "      <th>children</th>\n",
       "      <td>0.041536</td>\n",
       "      <td>-0.017848</td>\n",
       "      <td>0.012755</td>\n",
       "      <td>1.000000</td>\n",
       "      <td>0.007331</td>\n",
       "      <td>0.016258</td>\n",
       "      <td>0.067389</td>\n",
       "    </tr>\n",
       "    <tr>\n",
       "      <th>region</th>\n",
       "      <td>0.001626</td>\n",
       "      <td>-0.004936</td>\n",
       "      <td>0.157574</td>\n",
       "      <td>0.016258</td>\n",
       "      <td>-0.002358</td>\n",
       "      <td>1.000000</td>\n",
       "      <td>-0.006547</td>\n",
       "    </tr>\n",
       "    <tr>\n",
       "      <th>sex</th>\n",
       "      <td>0.019814</td>\n",
       "      <td>1.000000</td>\n",
       "      <td>-0.046397</td>\n",
       "      <td>-0.017848</td>\n",
       "      <td>-0.076596</td>\n",
       "      <td>-0.004936</td>\n",
       "      <td>-0.058044</td>\n",
       "    </tr>\n",
       "  </tbody>\n",
       "</table>\n",
       "</div>"
      ],
      "text/plain": [
       "               age       sex       bmi  children    smoker    region   charges\n",
       "charges   0.298308 -0.058044  0.198401  0.067389  0.787234 -0.006547  1.000000\n",
       "smoker   -0.025587 -0.076596  0.003746  0.007331  1.000000 -0.002358  0.787234\n",
       "age       1.000000  0.019814  0.109344  0.041536 -0.025587  0.001626  0.298308\n",
       "bmi       0.109344 -0.046397  1.000000  0.012755  0.003746  0.157574  0.198401\n",
       "children  0.041536 -0.017848  0.012755  1.000000  0.007331  0.016258  0.067389\n",
       "region    0.001626 -0.004936  0.157574  0.016258 -0.002358  1.000000 -0.006547\n",
       "sex       0.019814  1.000000 -0.046397 -0.017848 -0.076596 -0.004936 -0.058044"
      ]
     },
     "execution_count": 23,
     "metadata": {},
     "output_type": "execute_result"
    }
   ],
   "source": [
    "data.corr().sort_values('charges', ascending=False)"
   ]
  },
  {
   "cell_type": "code",
   "execution_count": 24,
   "metadata": {},
   "outputs": [],
   "source": [
    "# 데이터 분할\n",
    "X = data.drop('charges', axis=1)\n",
    "y = data['charges']\n",
    "x_train, x_test, y_train, y_test = train_test_split(X, y, test_size=.3, random_state=1)"
   ]
  },
  {
   "cell_type": "code",
   "execution_count": 29,
   "metadata": {},
   "outputs": [],
   "source": [
    "def metric(y_true, y_pred):\n",
    "    mae = mean_absolute_error(y_true, y_pred)\n",
    "    r2 = r2_score(y_true, y_pred)\n",
    "    \n",
    "    print(f'''\n",
    "      mae: {mae}\n",
    "      r2: {r2}''')"
   ]
  },
  {
   "cell_type": "code",
   "execution_count": 32,
   "metadata": {},
   "outputs": [
    {
     "name": "stdout",
     "output_type": "stream",
     "text": [
      "\n",
      "      mae: 5804.176218853249\n",
      "      r2: 0.6174094133630621\n"
     ]
    }
   ],
   "source": [
    "# 기준모델 단순선형\n",
    "from sklearn.linear_model import LinearRegression\n",
    "base = LinearRegression()\n",
    "base_x = x_train[['smoker']]\n",
    "base.fit(base_x, y_train)\n",
    "# 기준모델 성능(MAE, R2)\n",
    "pred_b = base.predict(base_x)\n",
    "metric(y_train, pred_b)\n",
    "\n"
   ]
  },
  {
   "cell_type": "code",
   "execution_count": 33,
   "metadata": {},
   "outputs": [
    {
     "name": "stdout",
     "output_type": "stream",
     "text": [
      "\n",
      "      mae: 0.0\n",
      "      r2: 1.0\n"
     ]
    }
   ],
   "source": [
    "# decisiontreeregressor\n",
    "dt = DecisionTreeRegressor()\n",
    "dt.fit(x_train, y_train)\n",
    "# 성능\n",
    "pred_dt = dt.predict(x_train)\n",
    "metric(y_train, pred_dt)"
   ]
  },
  {
   "cell_type": "code",
   "execution_count": 36,
   "metadata": {},
   "outputs": [
    {
     "name": "stdout",
     "output_type": "stream",
     "text": [
      "기준모델 검증 성능\n",
      "\n",
      "      mae: 5381.589336186842\n",
      "      r2: 0.6221860914687277\n",
      "트리모델 검증 성능\n",
      "\n",
      "      mae: 3707.463405049751\n",
      "      r2: 0.6033234512821564\n"
     ]
    }
   ],
   "source": [
    "# 검증\n",
    "x_test_b = x_test[['smoker']]\n",
    "pred_bt = base.predict(x_test_b)\n",
    "print('기준모델 검증 성능')\n",
    "metric(y_test, pred_bt)\n",
    "pred_dtt = dt.predict(x_test)\n",
    "print('트리모델 검증 성능')\n",
    "metric(y_test, pred_dtt)\n",
    "\n"
   ]
  },
  {
   "cell_type": "code",
   "execution_count": 37,
   "metadata": {},
   "outputs": [
    {
     "name": "stdout",
     "output_type": "stream",
     "text": [
      "학습 성능\n",
      "\n",
      "      mae: 2541.0369066357084\n",
      "      r2: 0.8736713691856433\n",
      "\n",
      "검증 성능\n",
      "\n",
      "      mae: 2568.543285088759\n",
      "      r2: 0.8540735871320141\n"
     ]
    }
   ],
   "source": [
    "# 과적합 해소\n",
    "dt = DecisionTreeRegressor(max_depth=5, min_samples_leaf=20)\n",
    "dt.fit(x_train, y_train)\n",
    "# 성능\n",
    "print('학습 성능')\n",
    "pred_dt = dt.predict(x_train)\n",
    "metric(y_train, pred_dt)\n",
    "pred_dtt = dt.predict(x_test)\n",
    "print('\\n검증 성능')\n",
    "metric(y_test, pred_dtt)"
   ]
  }
 ],
 "metadata": {
  "kernelspec": {
   "display_name": "section4_pj",
   "language": "python",
   "name": "python3"
  },
  "language_info": {
   "codemirror_mode": {
    "name": "ipython",
    "version": 3
   },
   "file_extension": ".py",
   "mimetype": "text/x-python",
   "name": "python",
   "nbconvert_exporter": "python",
   "pygments_lexer": "ipython3",
   "version": "3.8.16"
  }
 },
 "nbformat": 4,
 "nbformat_minor": 2
}
